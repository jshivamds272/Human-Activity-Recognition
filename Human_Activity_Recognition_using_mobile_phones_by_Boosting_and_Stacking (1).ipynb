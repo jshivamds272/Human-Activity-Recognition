{
  "nbformat": 4,
  "nbformat_minor": 0,
  "metadata": {
    "colab": {
      "name": "Human Activity Recognition using mobile phones by Boosting and Stacking.ipynb",
      "provenance": [],
      "collapsed_sections": []
    },
    "kernelspec": {
      "name": "python3",
      "display_name": "Python 3"
    },
    "language_info": {
      "name": "python"
    }
  },
  "cells": [
    {
      "cell_type": "markdown",
      "metadata": {
        "id": "dK8DRpd4cqEY"
      },
      "source": [
        "Import necessary libraries\n"
      ]
    },
    {
      "cell_type": "code",
      "metadata": {
        "id": "6LtzuVuIpAcD"
      },
      "source": [
        "import pandas as pd\n",
        "import numpy as np\n",
        "import matplotlib.pyplot as plt\n",
        "import seaborn as sns\n"
      ],
      "execution_count": null,
      "outputs": []
    },
    {
      "cell_type": "code",
      "metadata": {
        "id": "KWTB1kAPazIW"
      },
      "source": [
        "data=pd.read_csv('/content/LtqlhJ-TQPaapYSfk0D2IA_0e282b4d3b394af096b2512db121ff33_Human_Activity_Recognition_Using_Smartphones_Data.csv') #import dataset"
      ],
      "execution_count": null,
      "outputs": []
    },
    {
      "cell_type": "code",
      "metadata": {
        "colab": {
          "base_uri": "https://localhost:8080/"
        },
        "id": "ePms7N8Lbbln",
        "outputId": "b49282ff-6ed7-45bb-9014-3d3be55c3ace"
      },
      "source": [
        "data.shape  #shape of dataset"
      ],
      "execution_count": null,
      "outputs": [
        {
          "output_type": "execute_result",
          "data": {
            "text/plain": [
              "(4435, 562)"
            ]
          },
          "metadata": {},
          "execution_count": 3
        }
      ]
    },
    {
      "cell_type": "code",
      "metadata": {
        "colab": {
          "base_uri": "https://localhost:8080/"
        },
        "id": "wtg7Jd6xbdTa",
        "outputId": "98bdc30a-0229-4cf6-d041-32afa6e9adf9"
      },
      "source": [
        "data.dtypes   #data typesw of features"
      ],
      "execution_count": null,
      "outputs": [
        {
          "output_type": "execute_result",
          "data": {
            "text/plain": [
              "tBodyAcc-mean()-X                       float64\n",
              "tBodyAcc-mean()-Y                       float64\n",
              "tBodyAcc-mean()-Z                       float64\n",
              "tBodyAcc-std()-X                        float64\n",
              "tBodyAcc-std()-Y                        float64\n",
              "                                         ...   \n",
              "angle(tBodyGyroJerkMean,gravityMean)    float64\n",
              "angle(X,gravityMean)                    float64\n",
              "angle(Y,gravityMean)                    float64\n",
              "angle(Z,gravityMean)                    float64\n",
              "Activity                                 object\n",
              "Length: 562, dtype: object"
            ]
          },
          "metadata": {},
          "execution_count": 4
        }
      ]
    },
    {
      "cell_type": "code",
      "metadata": {
        "colab": {
          "base_uri": "https://localhost:8080/"
        },
        "id": "IQzENuiUc8Y4",
        "outputId": "4bb0710e-963f-4d18-a738-118ba5076706"
      },
      "source": [
        "float_columns=(data.dtypes==np.float)          \n",
        "print( (data.loc[:,float_columns].max()==1).all())          #checked min and maxm value of float datatypes features\n",
        "print((data.loc[:,float_columns].min()==-1).all())"
      ],
      "execution_count": null,
      "outputs": [
        {
          "output_type": "stream",
          "name": "stdout",
          "text": [
            "False\n",
            "False\n"
          ]
        }
      ]
    },
    {
      "cell_type": "code",
      "metadata": {
        "colab": {
          "base_uri": "https://localhost:8080/"
        },
        "id": "LvuuFYtOfR76",
        "outputId": "aeed2290-fbda-4fe4-a067-d3101720c3d4"
      },
      "source": [
        "from sklearn.preprocessing import LabelEncoder       #did label incoding for target feature\n",
        "le=LabelEncoder()\n",
        "data.iloc[:,-1]=le.fit_transform(data.iloc[:,-1])\n",
        "le.classes_"
      ],
      "execution_count": null,
      "outputs": [
        {
          "output_type": "execute_result",
          "data": {
            "text/plain": [
              "array(['LAYING', 'SITTING', 'STANDING', 'WALKING', 'WALKING_DOWNSTAIRS',\n",
              "       'WALKING_UPSTAIRS', nan], dtype=object)"
            ]
          },
          "metadata": {},
          "execution_count": 6
        }
      ]
    },
    {
      "cell_type": "code",
      "metadata": {
        "colab": {
          "base_uri": "https://localhost:8080/"
        },
        "id": "u7Kec3ChhanI",
        "outputId": "0ac2d068-22f9-40fe-8506-c1deee4c8117"
      },
      "source": [
        "data.Activity.unique()"
      ],
      "execution_count": null,
      "outputs": [
        {
          "output_type": "execute_result",
          "data": {
            "text/plain": [
              "array([2, 1, 0, 3, 4, 5, 6])"
            ]
          },
          "metadata": {},
          "execution_count": 7
        }
      ]
    },
    {
      "cell_type": "code",
      "metadata": {
        "colab": {
          "base_uri": "https://localhost:8080/"
        },
        "id": "vmsRXanlmrYJ",
        "outputId": "6c6ce963-da22-435e-d271-568917f08409"
      },
      "source": [
        "data.Activity.value_counts(normalize=True)   #find percentage of classes of target feature"
      ],
      "execution_count": null,
      "outputs": [
        {
          "output_type": "execute_result",
          "data": {
            "text/plain": [
              "2    0.189853\n",
              "0    0.185118\n",
              "1    0.175874\n",
              "3    0.171139\n",
              "5    0.145209\n",
              "4    0.132582\n",
              "6    0.000225\n",
              "Name: Activity, dtype: float64"
            ]
          },
          "metadata": {},
          "execution_count": 8
        }
      ]
    },
    {
      "cell_type": "code",
      "metadata": {
        "colab": {
          "base_uri": "https://localhost:8080/"
        },
        "id": "N7aeuUmOAlbS",
        "outputId": "05f66657-df8a-4b45-f73e-d26461f8c585"
      },
      "source": [
        "data.isnull().sum() #checked features contains how much null values"
      ],
      "execution_count": null,
      "outputs": [
        {
          "output_type": "execute_result",
          "data": {
            "text/plain": [
              "tBodyAcc-mean()-X                       0\n",
              "tBodyAcc-mean()-Y                       0\n",
              "tBodyAcc-mean()-Z                       0\n",
              "tBodyAcc-std()-X                        0\n",
              "tBodyAcc-std()-Y                        0\n",
              "                                       ..\n",
              "angle(tBodyGyroJerkMean,gravityMean)    1\n",
              "angle(X,gravityMean)                    1\n",
              "angle(Y,gravityMean)                    1\n",
              "angle(Z,gravityMean)                    1\n",
              "Activity                                0\n",
              "Length: 562, dtype: int64"
            ]
          },
          "metadata": {},
          "execution_count": 12
        }
      ]
    },
    {
      "cell_type": "code",
      "metadata": {
        "id": "sbYiskYDrfWT"
      },
      "source": [
        "data.dropna(how='any',inplace=True)      #just droped null values"
      ],
      "execution_count": null,
      "outputs": []
    },
    {
      "cell_type": "code",
      "metadata": {
        "id": "6svKZT0UnNHH"
      },
      "source": [
        "from sklearn.model_selection import train_test_split         #divided data into train and test set\n",
        "feature_col=[x for x in data.columns if x!='Activity']\n",
        "\n",
        "x_train,x_test,y_train,y_test=train_test_split(data[feature_col],data['Activity'],test_size=0.3,random_state=42)"
      ],
      "execution_count": null,
      "outputs": []
    },
    {
      "cell_type": "code",
      "metadata": {
        "colab": {
          "base_uri": "https://localhost:8080/"
        },
        "id": "2bcUKM8VnrxD",
        "outputId": "33c0f9d0-3aec-49c1-c8b0-22f9829bbc13"
      },
      "source": [
        "x_train.shape,y_train.shape,x_test.shape,y_test.shape           #checked shapes of all train and test dataset"
      ],
      "execution_count": null,
      "outputs": [
        {
          "output_type": "execute_result",
          "data": {
            "text/plain": [
              "((3103, 561), (3103,), (1331, 561), (1331,))"
            ]
          },
          "metadata": {},
          "execution_count": 16
        }
      ]
    },
    {
      "cell_type": "markdown",
      "metadata": {
        "id": "_oU5i6ULoLMP"
      },
      "source": [
        "Gradient Boosting"
      ]
    },
    {
      "cell_type": "code",
      "metadata": {
        "colab": {
          "base_uri": "https://localhost:8080/",
          "height": 786
        },
        "id": "BqmAjHKDn-k2",
        "outputId": "ab9002ee-3780-4d95-f5bf-dd67a9ab39db"
      },
      "source": [
        "from sklearn.ensemble import GradientBoostingClassifier\n",
        "from sklearn.metrics import accuracy_score\n",
        "error_list=list()\n",
        "tree_list=[15,25,50,100,200,400]\n",
        "for n_trees in tree_list:\n",
        "  GBC=GradientBoostingClassifier(max_features=5,n_estimators=n_trees,random_state=42)\n",
        "  print(f'Fitting model with {n_trees} trees')\n",
        "  GBC.fit(x_train.values,y_train.values)\n",
        "  y_pred=GBC.predict(x_test)\n",
        "  error=1-accuracy_score(y_test,y_pred)\n",
        "  error_list.append(pd.Series({'n_trees':n_trees,'error':error}))\n",
        "print(error_list)\n",
        "error_df=pd.concat(error_list,axis=1).T.set_index('n_trees')\n",
        "error_df"
      ],
      "execution_count": null,
      "outputs": [
        {
          "output_type": "stream",
          "name": "stdout",
          "text": [
            "Fitting model with 15 trees\n"
          ]
        },
        {
          "output_type": "stream",
          "name": "stderr",
          "text": [
            "/usr/local/lib/python3.7/dist-packages/sklearn/base.py:439: UserWarning: X has feature names, but GradientBoostingClassifier was fitted without feature names\n",
            "  f\"X has feature names, but {self.__class__.__name__} was fitted without\"\n"
          ]
        },
        {
          "output_type": "stream",
          "name": "stdout",
          "text": [
            "Fitting model with 25 trees\n"
          ]
        },
        {
          "output_type": "stream",
          "name": "stderr",
          "text": [
            "/usr/local/lib/python3.7/dist-packages/sklearn/base.py:439: UserWarning: X has feature names, but GradientBoostingClassifier was fitted without feature names\n",
            "  f\"X has feature names, but {self.__class__.__name__} was fitted without\"\n"
          ]
        },
        {
          "output_type": "stream",
          "name": "stdout",
          "text": [
            "Fitting model with 50 trees\n"
          ]
        },
        {
          "output_type": "stream",
          "name": "stderr",
          "text": [
            "/usr/local/lib/python3.7/dist-packages/sklearn/base.py:439: UserWarning: X has feature names, but GradientBoostingClassifier was fitted without feature names\n",
            "  f\"X has feature names, but {self.__class__.__name__} was fitted without\"\n"
          ]
        },
        {
          "output_type": "stream",
          "name": "stdout",
          "text": [
            "Fitting model with 100 trees\n"
          ]
        },
        {
          "output_type": "stream",
          "name": "stderr",
          "text": [
            "/usr/local/lib/python3.7/dist-packages/sklearn/base.py:439: UserWarning: X has feature names, but GradientBoostingClassifier was fitted without feature names\n",
            "  f\"X has feature names, but {self.__class__.__name__} was fitted without\"\n"
          ]
        },
        {
          "output_type": "stream",
          "name": "stdout",
          "text": [
            "Fitting model with 200 trees\n"
          ]
        },
        {
          "output_type": "stream",
          "name": "stderr",
          "text": [
            "/usr/local/lib/python3.7/dist-packages/sklearn/base.py:439: UserWarning: X has feature names, but GradientBoostingClassifier was fitted without feature names\n",
            "  f\"X has feature names, but {self.__class__.__name__} was fitted without\"\n"
          ]
        },
        {
          "output_type": "stream",
          "name": "stdout",
          "text": [
            "Fitting model with 400 trees\n",
            "[n_trees    15.000000\n",
            "error       0.101427\n",
            "dtype: float64, n_trees    25.000000\n",
            "error       0.054846\n",
            "dtype: float64, n_trees    50.000000\n",
            "error       0.032307\n",
            "dtype: float64, n_trees    100.000000\n",
            "error        0.018032\n",
            "dtype: float64, n_trees    200.00000\n",
            "error        0.01127\n",
            "dtype: float64, n_trees    400.00000\n",
            "error        0.01127\n",
            "dtype: float64]\n"
          ]
        },
        {
          "output_type": "stream",
          "name": "stderr",
          "text": [
            "/usr/local/lib/python3.7/dist-packages/sklearn/base.py:439: UserWarning: X has feature names, but GradientBoostingClassifier was fitted without feature names\n",
            "  f\"X has feature names, but {self.__class__.__name__} was fitted without\"\n"
          ]
        },
        {
          "output_type": "execute_result",
          "data": {
            "text/html": [
              "<div>\n",
              "<style scoped>\n",
              "    .dataframe tbody tr th:only-of-type {\n",
              "        vertical-align: middle;\n",
              "    }\n",
              "\n",
              "    .dataframe tbody tr th {\n",
              "        vertical-align: top;\n",
              "    }\n",
              "\n",
              "    .dataframe thead th {\n",
              "        text-align: right;\n",
              "    }\n",
              "</style>\n",
              "<table border=\"1\" class=\"dataframe\">\n",
              "  <thead>\n",
              "    <tr style=\"text-align: right;\">\n",
              "      <th></th>\n",
              "      <th>error</th>\n",
              "    </tr>\n",
              "    <tr>\n",
              "      <th>n_trees</th>\n",
              "      <th></th>\n",
              "    </tr>\n",
              "  </thead>\n",
              "  <tbody>\n",
              "    <tr>\n",
              "      <th>15.0</th>\n",
              "      <td>0.101427</td>\n",
              "    </tr>\n",
              "    <tr>\n",
              "      <th>25.0</th>\n",
              "      <td>0.054846</td>\n",
              "    </tr>\n",
              "    <tr>\n",
              "      <th>50.0</th>\n",
              "      <td>0.032307</td>\n",
              "    </tr>\n",
              "    <tr>\n",
              "      <th>100.0</th>\n",
              "      <td>0.018032</td>\n",
              "    </tr>\n",
              "    <tr>\n",
              "      <th>200.0</th>\n",
              "      <td>0.011270</td>\n",
              "    </tr>\n",
              "    <tr>\n",
              "      <th>400.0</th>\n",
              "      <td>0.011270</td>\n",
              "    </tr>\n",
              "  </tbody>\n",
              "</table>\n",
              "</div>"
            ],
            "text/plain": [
              "            error\n",
              "n_trees          \n",
              "15.0     0.101427\n",
              "25.0     0.054846\n",
              "50.0     0.032307\n",
              "100.0    0.018032\n",
              "200.0    0.011270\n",
              "400.0    0.011270"
            ]
          },
          "metadata": {},
          "execution_count": 17
        }
      ]
    },
    {
      "cell_type": "code",
      "metadata": {
        "colab": {
          "base_uri": "https://localhost:8080/",
          "height": 535
        },
        "id": "ODk7Xl0sqOMC",
        "outputId": "ff354ac4-4cb3-4fc1-9cc8-26084d120c5d"
      },
      "source": [
        "sns.set_context('talk')          #plotted error vs no of trees and found optimal point\n",
        "sns.set_style('white')\n",
        "#sns.set_palette(palette)\n",
        "#create the plot\n",
        "ax=error_df.plot(marker='o',figsize=(12,8),linewidth=5)\n",
        "ax.set(xlabel='No. Of trees',ylabel='Error')\n",
        "ax.set_xlim(0,max(error_df.index)*1.1)"
      ],
      "execution_count": null,
      "outputs": [
        {
          "output_type": "execute_result",
          "data": {
            "text/plain": [
              "(0.0, 440.00000000000006)"
            ]
          },
          "metadata": {},
          "execution_count": 18
        },
        {
          "output_type": "display_data",
          "data": {
            "image/png": "[encoded data removed]",
            "text/plain": [
              "<Figure size 864x576 with 1 Axes>"
            ]
          },
          "metadata": {}
        }
      ]
    },
    {
      "cell_type": "code",
      "metadata": {
        "id": "uOTEMxoKtBAf"
      },
      "source": [
        "from sklearn.model_selection import GridSearchCV    # did modal selection by grid search cv and perform gradient boosting\n",
        "param_grid={'learning_rate':[0.1,0.01,0.001],\n",
        "            'subsample':[1,0.5],\n",
        "            'max_features':[2,3,4]}\n",
        "qq_gbc=GridSearchCV(GradientBoostingClassifier(n_estimators=400,random_state=42),\n",
        "                    param_grid=param_grid,\n",
        "                    scoring='accuracy',\n",
        "                    n_jobs=-1)\n",
        "qq_gbc=qq_gbc.fit(x_train,y_train)"
      ],
      "execution_count": null,
      "outputs": []
    },
    {
      "cell_type": "code",
      "metadata": {
        "colab": {
          "base_uri": "https://localhost:8080/"
        },
        "id": "qG9s_8KszwKx",
        "outputId": "1767b611-f836-4bd4-d066-49a500752432"
      },
      "source": [
        "qq_gbc.best_estimator_"
      ],
      "execution_count": null,
      "outputs": [
        {
          "output_type": "execute_result",
          "data": {
            "text/plain": [
              "GradientBoostingClassifier(max_features=4, n_estimators=400, random_state=42,\n",
              "                           subsample=1)"
            ]
          },
          "metadata": {},
          "execution_count": 21
        }
      ]
    },
    {
      "cell_type": "code",
      "metadata": {
        "id": "D8gKP0Cr3F0b"
      },
      "source": [
        "from sklearn.metrics import classification_report      # made classification report\n",
        "y_pred=qq_gbc.predict(x_test)                          #predicted test data"
      ],
      "execution_count": null,
      "outputs": []
    },
    {
      "cell_type": "code",
      "metadata": {
        "colab": {
          "base_uri": "https://localhost:8080/"
        },
        "id": "JHLwTfMa38cE",
        "outputId": "f6670b6e-1524-43cc-8ae0-1282e527fbe6"
      },
      "source": [
        "print(classification_report(y_test,y_pred))"
      ],
      "execution_count": null,
      "outputs": [
        {
          "output_type": "stream",
          "name": "stdout",
          "text": [
            "              precision    recall  f1-score   support\n",
            "\n",
            "           0       1.00      1.00      1.00       249\n",
            "           1       0.97      0.97      0.97       241\n",
            "           2       0.97      0.98      0.97       252\n",
            "           3       1.00      1.00      1.00       222\n",
            "           4       1.00      1.00      1.00       191\n",
            "           5       0.99      1.00      0.99       176\n",
            "\n",
            "    accuracy                           0.99      1331\n",
            "   macro avg       0.99      0.99      0.99      1331\n",
            "weighted avg       0.99      0.99      0.99      1331\n",
            "\n"
          ]
        }
      ]
    },
    {
      "cell_type": "code",
      "metadata": {
        "colab": {
          "base_uri": "https://localhost:8080/",
          "height": 279
        },
        "id": "ZTzrOU0s4AH-",
        "outputId": "66831f69-2ebd-4394-b084-4c7913f41002"
      },
      "source": [
        "from sklearn.metrics import confusion_matrix  #confusion matrix\n",
        "sns.set_context('talk')\n",
        "cm=confusion_matrix(y_test,y_pred)\n",
        "ax=sns.heatmap(cm,annot=True,fmt='g')    #perform heat map of confusion matrix\n"
      ],
      "execution_count": null,
      "outputs": [
        {
          "output_type": "display_data",
          "data": {
            "image/png": "[encoded data removed]",
            "text/plain": [
              "<Figure size 432x288 with 2 Axes>"
            ]
          },
          "metadata": {}
        }
      ]
    },
    {
      "cell_type": "markdown",
      "metadata": {
        "id": "Oi0L5n9h664c"
      },
      "source": [
        "Adaboost"
      ]
    },
    {
      "cell_type": "code",
      "metadata": {
        "colab": {
          "base_uri": "https://localhost:8080/"
        },
        "id": "S7VCbFkBAP-3",
        "outputId": "252a43bc-7ad4-47a3-ada0-1a4d4dda7190"
      },
      "source": [
        "from sklearn.ensemble import AdaBoostClassifier  #perform adaboosting\n",
        "from sklearn.tree import DecisionTreeClassifier\n",
        "ABC=AdaBoostClassifier(DecisionTreeClassifier(max_depth=1))\n",
        "param_grid={'n_estimators':[100,150,200],\n",
        "            'learning_rate':[0.01,0.001]}\n",
        "gv_abc=GridSearchCV(ABC,param_grid=param_grid,scoring='accuracy',n_jobs=-1)\n",
        "gv_abc.fit(x_train,y_train)"
      ],
      "execution_count": null,
      "outputs": [
        {
          "output_type": "execute_result",
          "data": {
            "text/plain": [
              "GridSearchCV(estimator=AdaBoostClassifier(base_estimator=DecisionTreeClassifier(max_depth=1)),\n",
              "             n_jobs=-1,\n",
              "             param_grid={'learning_rate': [0.01, 0.001],\n",
              "                         'n_estimators': [100, 150, 200]},\n",
              "             scoring='accuracy')"
            ]
          },
          "metadata": {},
          "execution_count": 25
        }
      ]
    },
    {
      "cell_type": "code",
      "metadata": {
        "colab": {
          "base_uri": "https://localhost:8080/"
        },
        "id": "GmpESzKq7N20",
        "outputId": "3d9a85a0-96ca-40d0-c3ec-761e37d148ce"
      },
      "source": [
        "gv_abc.best_estimator_"
      ],
      "execution_count": null,
      "outputs": [
        {
          "output_type": "execute_result",
          "data": {
            "text/plain": [
              "AdaBoostClassifier(base_estimator=DecisionTreeClassifier(max_depth=1),\n",
              "                   learning_rate=0.01, n_estimators=100)"
            ]
          },
          "metadata": {},
          "execution_count": 26
        }
      ]
    },
    {
      "cell_type": "code",
      "metadata": {
        "colab": {
          "base_uri": "https://localhost:8080/"
        },
        "id": "uBU-v9uz8g3-",
        "outputId": "6194f0db-67e4-42ef-d65d-78890600852a"
      },
      "source": [
        "y_pred=gv_abc.predict(x_test)         #predicted test values\n",
        "print(classification_report(y_test,y_pred))      #classification report\n"
      ],
      "execution_count": null,
      "outputs": [
        {
          "output_type": "stream",
          "name": "stdout",
          "text": [
            "              precision    recall  f1-score   support\n",
            "\n",
            "           0       1.00      1.00      1.00       249\n",
            "           1       0.00      0.00      0.00       241\n",
            "           2       0.51      1.00      0.68       252\n",
            "           3       0.38      1.00      0.55       222\n",
            "           4       0.00      0.00      0.00       191\n",
            "           5       0.00      0.00      0.00       176\n",
            "\n",
            "    accuracy                           0.54      1331\n",
            "   macro avg       0.31      0.50      0.37      1331\n",
            "weighted avg       0.35      0.54      0.41      1331\n",
            "\n"
          ]
        },
        {
          "output_type": "stream",
          "name": "stderr",
          "text": [
            "/usr/local/lib/python3.7/dist-packages/sklearn/metrics/_classification.py:1308: UndefinedMetricWarning: Precision and F-score are ill-defined and being set to 0.0 in labels with no predicted samples. Use `zero_division` parameter to control this behavior.\n",
            "  _warn_prf(average, modifier, msg_start, len(result))\n",
            "/usr/local/lib/python3.7/dist-packages/sklearn/metrics/_classification.py:1308: UndefinedMetricWarning: Precision and F-score are ill-defined and being set to 0.0 in labels with no predicted samples. Use `zero_division` parameter to control this behavior.\n",
            "  _warn_prf(average, modifier, msg_start, len(result))\n",
            "/usr/local/lib/python3.7/dist-packages/sklearn/metrics/_classification.py:1308: UndefinedMetricWarning: Precision and F-score are ill-defined and being set to 0.0 in labels with no predicted samples. Use `zero_division` parameter to control this behavior.\n",
            "  _warn_prf(average, modifier, msg_start, len(result))\n"
          ]
        }
      ]
    },
    {
      "cell_type": "code",
      "metadata": {
        "colab": {
          "base_uri": "https://localhost:8080/",
          "height": 284
        },
        "id": "elAhbofH9JGN",
        "outputId": "ff84192e-f7b2-4258-baba-60f7e2b42cec"
      },
      "source": [
        "sns.set_context('talk')\n",
        "cm=confusion_matrix(y_test,y_pred)      #confusion matrix\n",
        "ax=sns.heatmap(cm,annot=True,fmt='g')    #made heat map"
      ],
      "execution_count": null,
      "outputs": [
        {
          "output_type": "display_data",
          "data": {
            "image/png": "[encoded data removed]",
            "text/plain": [
              "<Figure size 432x288 with 2 Axes>"
            ]
          },
          "metadata": {}
        }
      ]
    },
    {
      "cell_type": "markdown",
      "metadata": {
        "id": "NMBdX4K0NdCT"
      },
      "source": [
        "Logistic Regression"
      ]
    },
    {
      "cell_type": "code",
      "metadata": {
        "id": "EwjIWze9-KDT"
      },
      "source": [
        "from sklearn.linear_model import LogisticRegression    #perform logistic regression\n",
        "lm_l2=LogisticRegression(penalty='l2',solver='saga',max_iter=500).fit(x_train,y_train)"
      ],
      "execution_count": null,
      "outputs": []
    },
    {
      "cell_type": "code",
      "metadata": {
        "colab": {
          "base_uri": "https://localhost:8080/"
        },
        "id": "9IbkPQCeOEDP",
        "outputId": "c7cc36ac-0e85-4a7c-e509-d5949498621e"
      },
      "source": [
        "y_pred=lm_l2.predict(x_test)\n",
        "print(classification_report(y_test,y_pred))"
      ],
      "execution_count": null,
      "outputs": [
        {
          "output_type": "stream",
          "name": "stdout",
          "text": [
            "              precision    recall  f1-score   support\n",
            "\n",
            "           0       1.00      1.00      1.00       249\n",
            "           1       0.96      0.92      0.94       241\n",
            "           2       0.93      0.96      0.95       252\n",
            "           3       0.99      0.99      0.99       222\n",
            "           4       1.00      1.00      1.00       191\n",
            "           5       0.98      0.99      0.99       176\n",
            "\n",
            "    accuracy                           0.98      1331\n",
            "   macro avg       0.98      0.98      0.98      1331\n",
            "weighted avg       0.98      0.98      0.98      1331\n",
            "\n"
          ]
        }
      ]
    },
    {
      "cell_type": "code",
      "metadata": {
        "colab": {
          "base_uri": "https://localhost:8080/",
          "height": 296
        },
        "id": "PAJ1niGSRKkv",
        "outputId": "f6408dd0-d023-4dbf-b94a-5b23aa43327b"
      },
      "source": [
        "sns.set_context('talk')\n",
        "cm=confusion_matrix(y_test,y_pred)     # made confusion matrix and made heat map\n",
        "sns.heatmap(cm,annot=True,fmt='g')"
      ],
      "execution_count": null,
      "outputs": [
        {
          "output_type": "execute_result",
          "data": {
            "text/plain": [
              "<matplotlib.axes._subplots.AxesSubplot at 0x7fb1e61f1f50>"
            ]
          },
          "metadata": {},
          "execution_count": 31
        },
        {
          "output_type": "display_data",
          "data": {
            "image/png": "[encoded data removed]",
            "text/plain": [
              "<Figure size 432x288 with 2 Axes>"
            ]
          },
          "metadata": {}
        }
      ]
    },
    {
      "cell_type": "markdown",
      "metadata": {
        "id": "jyBH0vknSCGs"
      },
      "source": [
        "Voting Classifier"
      ]
    },
    {
      "cell_type": "code",
      "metadata": {
        "id": "PqOYs_zsRhVa"
      },
      "source": [
        "from sklearn.ensemble import VotingClassifier      #perform voting calssifier\n",
        "estimators=[('lm-l2',lm_l2),('gbc',GBC)] #the combined model-logistic regression,gradient boosting\n",
        "vc=VotingClassifier(estimators,voting='soft')\n",
        "vc=vc.fit(x_train,y_train)"
      ],
      "execution_count": null,
      "outputs": []
    },
    {
      "cell_type": "code",
      "metadata": {
        "colab": {
          "base_uri": "https://localhost:8080/"
        },
        "id": "g59D6uWKS8gR",
        "outputId": "ea74709d-242d-470e-9a3a-3c7371a13621"
      },
      "source": [
        "y_pred=vc.predict(x_test)             #predited test values\n",
        "print(classification_report(y_test,y_pred))\n"
      ],
      "execution_count": null,
      "outputs": [
        {
          "output_type": "stream",
          "name": "stdout",
          "text": [
            "              precision    recall  f1-score   support\n",
            "\n",
            "           0       1.00      1.00      1.00       249\n",
            "           1       0.97      0.96      0.96       241\n",
            "           2       0.96      0.97      0.97       252\n",
            "           3       1.00      1.00      1.00       222\n",
            "           4       1.00      1.00      1.00       191\n",
            "           5       0.99      1.00      0.99       176\n",
            "\n",
            "    accuracy                           0.99      1331\n",
            "   macro avg       0.99      0.99      0.99      1331\n",
            "weighted avg       0.99      0.99      0.99      1331\n",
            "\n"
          ]
        }
      ]
    },
    {
      "cell_type": "code",
      "metadata": {
        "colab": {
          "base_uri": "https://localhost:8080/",
          "height": 296
        },
        "id": "lOYmGnS7TOlQ",
        "outputId": "27b34742-2ec1-4fb4-86e2-0ae7241c9f46"
      },
      "source": [
        "sns.set_context('talk')               # confusion matrix \n",
        "cm=confusion_matrix(y_test,y_pred)\n",
        "sns.heatmap(cm,annot=True,fmt='g')     #heat map"
      ],
      "execution_count": null,
      "outputs": [
        {
          "output_type": "execute_result",
          "data": {
            "text/plain": [
              "<matplotlib.axes._subplots.AxesSubplot at 0x7fb1e6028690>"
            ]
          },
          "metadata": {},
          "execution_count": 34
        },
        {
          "output_type": "display_data",
          "data": {
            "image/png": "[encoded data removed]",
            "text/plain": [
              "<Figure size 432x288 with 2 Axes>"
            ]
          },
          "metadata": {}
        }
      ]
    },
    {
      "cell_type": "markdown",
      "metadata": {
        "id": "uAp61Ax58RKS"
      },
      "source": [
        "All the algorithm performed very well on dataset except ada boost ,its accuracy is too low\n",
        "\n"
      ]
    },
    {
      "cell_type": "code",
      "metadata": {
        "id": "kDfnnD7mTiPD"
      },
      "source": [
        ""
      ],
      "execution_count": null,
      "outputs": []
    }
  ]
}